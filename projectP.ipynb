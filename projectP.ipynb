{
 "cells": [
  {
   "cell_type": "code",
   "execution_count": 1,
   "metadata": {},
   "outputs": [
    {
     "name": "stderr",
     "output_type": "stream",
     "text": [
      "Using TensorFlow backend.\n"
     ]
    }
   ],
   "source": [
    "from keras.optimizers import Adam\n",
    "from keras.models import Sequential\n",
    "from keras.layers.core import Dense, Dropout\n",
    "from keras.utils import to_categorical\n",
    "import matplotlib.pyplot as plt\n",
    "import random\n",
    "from collections import deque"
   ]
  },
  {
   "cell_type": "code",
   "execution_count": 2,
   "metadata": {},
   "outputs": [
    {
     "name": "stdout",
     "output_type": "stream",
     "text": [
      "[name: \"/device:CPU:0\"\n",
      "device_type: \"CPU\"\n",
      "memory_limit: 268435456\n",
      "locality {\n",
      "}\n",
      "incarnation: 10089475750130877498\n",
      ", name: \"/device:GPU:0\"\n",
      "device_type: \"GPU\"\n",
      "memory_limit: 9203229655\n",
      "locality {\n",
      "  bus_id: 1\n",
      "  links {\n",
      "  }\n",
      "}\n",
      "incarnation: 10537347157608335599\n",
      "physical_device_desc: \"device: 0, name: GeForce GTX 1080 Ti, pci bus id: 0000:01:00.0, compute capability: 6.1\"\n",
      "]\n"
     ]
    }
   ],
   "source": [
    "from tensorflow.python.client import device_lib\n",
    "print(device_lib.list_local_devices())"
   ]
  },
  {
   "cell_type": "code",
   "execution_count": 25,
   "metadata": {},
   "outputs": [
    {
     "data": {
      "text/plain": [
       "['/job:localhost/replica:0/task:0/device:GPU:0']"
      ]
     },
     "execution_count": 25,
     "metadata": {},
     "output_type": "execute_result"
    }
   ],
   "source": [
    "from keras import backend as K\n",
    "K.tensorflow_backend._get_available_gpus()"
   ]
  },
  {
   "cell_type": "code",
   "execution_count": 27,
   "metadata": {},
   "outputs": [],
   "source": [
    "import keras\n",
    "import tensorflow as tf\n",
    "config = tf.ConfigProto(\n",
    "device_count = {'GPU': 1, 'CPU': 8}\n",
    ")\n",
    "sess = tf.Session(config = config)\n",
    "keras.backend.set_session(sess)"
   ]
  },
  {
   "cell_type": "code",
   "execution_count": 2,
   "metadata": {},
   "outputs": [],
   "source": [
    "import numpy as np\n",
    "import pandas as pd\n",
    "from operator import add\n",
    "# colors = ['r', 'g', 'b', 'y']\n",
    "colors = [1,2,3,4]"
   ]
  },
  {
   "cell_type": "code",
   "execution_count": 65,
   "metadata": {},
   "outputs": [],
   "source": [
    "random.seed(30)\n",
    "seq = [get_next() for i in range(150)]"
   ]
  },
  {
   "cell_type": "code",
   "execution_count": null,
   "metadata": {},
   "outputs": [],
   "source": []
  },
  {
   "cell_type": "code",
   "execution_count": 3,
   "metadata": {},
   "outputs": [],
   "source": [
    "def new_board():\n",
    "#     board = np.repeat([['e','e','e','e','e','e']], 12, axis = 0)\n",
    "    board = np.repeat([[0, 0, 0, 0, 0, 0]], 12, axis = 0)\n",
    "    return board"
   ]
  },
  {
   "cell_type": "code",
   "execution_count": 4,
   "metadata": {},
   "outputs": [],
   "source": [
    "def get_next():\n",
    "    f = colors[np.random.randint(0,4)]\n",
    "    s = colors[np.random.randint(0,4)]\n",
    "    return [f,s]\n",
    "def get_col(co):\n",
    "    co_i, co_j = co\n",
    "    return board[co_i, co_j]\n",
    "def fall(board):\n",
    "    for col in range(len(board[0])):\n",
    "        temp = board[:, col]\n",
    "        temp = temp[temp != 0]\n",
    "#         print(temp)\n",
    "        board[:, col] = np.append(np.repeat([0], (len(board) - len(temp))), temp)"
   ]
  },
  {
   "cell_type": "code",
   "execution_count": 5,
   "metadata": {},
   "outputs": [],
   "source": [
    "def pop(board, group):\n",
    "    for i,j in group:\n",
    "#         board[i, j] = 'e'------------------------------------------------------\n",
    "       board[i, j] = 0 \n",
    "    \n",
    "def next_board(_board):\n",
    "    board = _board.copy()\n",
    "    visited = set()\n",
    "    fall(board)\n",
    "    fall(_board)\n",
    "    \n",
    "    def connect(i, j):\n",
    "        current_color = board[i, j]\n",
    "        current_group = {(i, j)}\n",
    "        my_togo = {(i-1, j), (i+1, j), (i, j-1), (i, j+1)}\n",
    "        new_togo = set()\n",
    "        my_visited = {(i, j)}\n",
    "        count = 1\n",
    "        while len(my_togo) != 0:\n",
    "            for r, c in my_togo:\n",
    "                try:\n",
    "                    if r >= 0 and c >= 0:\n",
    "                        color = board[r][c]\n",
    "                        my_visited.add((r, c))\n",
    "                        if color == current_color:\n",
    "                            count += 1\n",
    "                            visited.add((r, c))\n",
    "                            current_group.add((r, c))\n",
    "                            adj = {(r-1, c), (r+1, c), (r, c-1), (r, c+1)}.difference(my_visited)\n",
    "    #                         print(adj)\n",
    "                            new_togo = new_togo.union(adj)\n",
    "#                             print(new_togo)\n",
    "                except:\n",
    "                    continue\n",
    "            my_togo = new_togo\n",
    "            new_togo = set()\n",
    "#             print(count)\n",
    "            \n",
    "        return count >= 4, current_group\n",
    "    \n",
    "    for i in range(len(board)):\n",
    "            for j in range(len(board[0])):\n",
    "#                 if board[i, j] != 'e' and (i, j) not in visited:---------------------------\n",
    "                if board[i, j] != 0 and (i, j) not in visited:\n",
    "                    chain, group = connect(i, j)\n",
    "                    if chain:\n",
    "                        pop(board, group)\n",
    "#     print(visited)\n",
    "    if np.array_equal(_board, board):\n",
    "        return board, 0\n",
    "    else:\n",
    "#         return board\n",
    "        nb, chain = next_board(board)\n",
    "#         print(nb)\n",
    "        return nb, chain+1\n",
    "\n",
    "def hor(puyo, board, start):\n",
    "    possible = []\n",
    "    n, m = puyo\n",
    "    for i in range(5):\n",
    "#         if board[0][i] == 'e' and board[0][i + 1] == 'e':-----------------------------------------\n",
    "        if board[0][i] == 0 and board[0][i + 1] == 0:\n",
    "            t_board = board.copy()\n",
    "            t_board = board.copy()\n",
    "            t_board[0,i] = n\n",
    "            t_board[0,i+1] = m\n",
    "            possible.append((start + i, next_board(t_board)))\n",
    "    return possible\n",
    "\n",
    "def ver(puyo, board, start):\n",
    "    possible = []\n",
    "    n, m = puyo\n",
    "    for i in range(6):\n",
    "#         if board[0][i] == 'e' and board[1][i] == 'e':------------------------------------------\n",
    "        if board[0][i] == 0 and board[1][i] == 0:\n",
    "            t_board = board.copy()\n",
    "            t_board[0,i] = n\n",
    "            t_board[1,i] = m\n",
    "            possible.append((start + i, next_board(t_board)))\n",
    "    return possible\n",
    "\n",
    "def possibleMove(next_puyo, board):\n",
    "    possible = []\n",
    "    possible.extend(hor(next_puyo[::], board, 0))\n",
    "    possible.extend(hor(next_puyo[::-1], board, 5))\n",
    "    possible.extend(ver(next_puyo[::], board, 10))\n",
    "    possible.extend(ver(next_puyo[::-1], board, 16))\n",
    "    return np.asarray(possible)"
   ]
  },
  {
   "cell_type": "code",
   "execution_count": 75,
   "metadata": {},
   "outputs": [],
   "source": [
    "class DQNAgent(object):\n",
    "    \n",
    "    def __init__(self):\n",
    "        self.reward = 0\n",
    "        self.gamma = 0.9\n",
    "        self.dataframe = pd.DataFrame()\n",
    "        self.short_memory = deque(maxlen=2500)\n",
    "        self.agent_target = 1\n",
    "        self.agent_predict = 0\n",
    "        self.learning_rate = 0.001\n",
    "#         self.model = self.network()\n",
    "        self.model = self.network(\"weights_4.hdf5\")\n",
    "        self.epsilon = 0\n",
    "        self.actual = []\n",
    "        self.memory = []\n",
    "        self.longest_chain = 0\n",
    "        self.board = new_board()\n",
    "        \n",
    "    def set_state(self, board):\n",
    "        self.board = board\n",
    "        \n",
    "    def set_reward(self, chains, over):\n",
    "        if over:\n",
    "            if self.longest_chain == 0:\n",
    "                self.reward = -1e+4\n",
    "            else: self.reward = -1e+3\n",
    "        elif chains == 0:\n",
    "            self.reward = 1\n",
    "        elif chains > self.longest_chain:\n",
    "            self.reward = 10**(chains-self.longest_chain)\n",
    "            self.longest_chain = chains\n",
    "        else:\n",
    "            self.reward = 10\n",
    "        return self.reward\n",
    "    \n",
    "    \n",
    "    def network(self, weights=None):\n",
    "        model = Sequential()\n",
    "        model.add(Dense(output_dim=120, activation='relu', input_dim=72))\n",
    "        model.add(Dropout(0.15))\n",
    "        model.add(Dense(output_dim=120, activation='relu'))\n",
    "        model.add(Dropout(0.15))\n",
    "        model.add(Dense(output_dim=120, activation='relu'))\n",
    "        model.add(Dropout(0.15))\n",
    "        model.add(Dense(output_dim=22, activation='softmax'))\n",
    "        opt = Adam(self.learning_rate)\n",
    "        model.compile(loss='mse', optimizer=opt)\n",
    "        if weights:\n",
    "            model.load_weights(weights)\n",
    "        return model\n",
    "    def remember(self, state, action, reward, next_state, done):\n",
    "        self.memory.append((state, action, reward, next_state, done))\n",
    "        \n",
    "    def replay_new(self, memory):\n",
    "        if len(memory) > 1000:\n",
    "            minibatch = random.sample(memory, 1000)\n",
    "        else:\n",
    "            minibatch = memory\n",
    "        for state, action, reward, next_state, done in minibatch:\n",
    "            target = reward\n",
    "#             print(next_state)\n",
    "            if not done:\n",
    "#                 target = reward + self.gamma * np.amax(self.model.predict(np.array([next_state]))[0])\n",
    "#             target_f = self.model.predict(np.array([state]))\n",
    "                target = reward + self.gamma * np.amax(self.model.predict(next_state.reshape((1, 72)))[0])\n",
    "            target_f = self.model.predict(state.reshape((1, 72)))\n",
    "            target_f[0][np.argmax(action)] = target\n",
    "#             self.model.fit(np.array([state]), target_f, epochs=1, verbose=0)\n",
    "            self.model.fit(state.reshape((1, 72)), target_f, epochs=1, verbose=0)\n",
    "            \n",
    "    def train_short_memory(self, state, action, reward, next_state, done):\n",
    "        target = reward\n",
    "        if not done:\n",
    "            target = reward + self.gamma * np.amax(self.model.predict(next_state.reshape((1, 72)))[0])\n",
    "        target_f = self.model.predict(state.reshape((1, 72)))\n",
    "        target_f[0][np.argmax(action)] = target\n",
    "        self.model.fit(state.reshape((1, 72)), target_f, epochs=1, verbose=0)"
   ]
  },
  {
   "cell_type": "code",
   "execution_count": 51,
   "metadata": {},
   "outputs": [
    {
     "data": {
      "text/plain": [
       "8"
      ]
     },
     "execution_count": 51,
     "metadata": {},
     "output_type": "execute_result"
    }
   ],
   "source": [
    "4+4"
   ]
  },
  {
   "cell_type": "code",
   "execution_count": 76,
   "metadata": {},
   "outputs": [
    {
     "name": "stderr",
     "output_type": "stream",
     "text": [
      "/home/kanokpon/.local/lib/python3.6/site-packages/ipykernel_launcher.py:39: UserWarning: Update your `Dense` call to the Keras 2 API: `Dense(activation=\"relu\", input_dim=72, units=120)`\n",
      "/home/kanokpon/.local/lib/python3.6/site-packages/ipykernel_launcher.py:41: UserWarning: Update your `Dense` call to the Keras 2 API: `Dense(activation=\"relu\", units=120)`\n",
      "/home/kanokpon/.local/lib/python3.6/site-packages/ipykernel_launcher.py:43: UserWarning: Update your `Dense` call to the Keras 2 API: `Dense(activation=\"relu\", units=120)`\n",
      "/home/kanokpon/.local/lib/python3.6/site-packages/ipykernel_launcher.py:45: UserWarning: Update your `Dense` call to the Keras 2 API: `Dense(activation=\"softmax\", units=22)`\n",
      "/home/kanokpon/.local/lib/python3.6/site-packages/ipykernel_launcher.py:33: DeprecationWarning: elementwise comparison failed; this will raise an error in the future.\n"
     ]
    },
    {
     "name": "stdout",
     "output_type": "stream",
     "text": [
      "done\n"
     ]
    },
    {
     "data": {
      "image/png": "[encoded data removed]",
      "text/plain": [
       "<matplotlib.figure.Figure at 0x7f6ba46579b0>"
      ]
     },
     "metadata": {
      "needs_background": "light"
     },
     "output_type": "display_data"
    }
   ],
   "source": [
    "agent = DQNAgent()\n",
    "chain_plot = []\n",
    "counter_games = 0\n",
    "for i in range(500):\n",
    "    board = new_board()\n",
    "    done  = False\n",
    "    \n",
    "    agent.epsilon = 1\n",
    "    epsilon_min = 0.01\n",
    "    epsilon_decay = 0.995\n",
    "    \n",
    "    max_chain = 0\n",
    "#     while not done:\n",
    "    for j in seq:\n",
    "        done = board[0][2] != 0\n",
    "        agent.epsilon = 80 - counter_games\n",
    "        \n",
    "        state_old = board #agent.board\n",
    "        \n",
    "#         puyos = get_next()\n",
    "        puyos = j\n",
    "        possible = possibleMove(puyos, state_old)\n",
    "        if len(possible) == 0: break\n",
    "        possible_move = possible[::,0]\n",
    "        wrong_move_penalty = 0\n",
    "        \n",
    "#         if random.randint(0, 200) < agent.epsilon:\n",
    "        if np.random.rand() <= agent.epsilon:\n",
    "            final_move = possible_move[random.randint(0, len(possible_move)-1)]\n",
    "        else:\n",
    "            prediction = agent.model.predict(state_old.reshape((1, 72)))\n",
    "            final_move = to_categorical(np.argmax(prediction[0]))\n",
    "            if final_move not in possible_move:\n",
    "                final_move = possible_move[random.randint(0, len(possible_move)-1)]\n",
    "#                     wrong_move_penalty = -10   \n",
    "        state_new, chains = possible[possible[:, 0] == final_move][0][1]\n",
    "    \n",
    "        agent.longest_chain = chains if chains > agent.longest_chain else agent.longest_chain\n",
    "        reward = agent.set_reward(chains, done) + wrong_move_penalty\n",
    "        \n",
    "        agent.train_short_memory(state_old, final_move, reward, state_new, done)\n",
    "        agent.remember(state_old, final_move, reward, state_new, done)\n",
    "        \n",
    "        board = state_new\n",
    "        counter_games += 1\n",
    "        if chains > max_chain: max_chain = chains\n",
    "            \n",
    "    agent.replay_new(agent.memory)\n",
    "    if agent.epsilon > epsilon_min:\n",
    "        agent.epsilon*=epsilon_decay\n",
    "        \n",
    "    chain_plot.append(max_chain)\n",
    "agent.model.save_weights('weights_4.hdf5')\n",
    "plt.plot(chain_plot)\n",
    "print('done')"
   ]
  },
  {
   "cell_type": "code",
   "execution_count": 77,
   "metadata": {},
   "outputs": [
    {
     "data": {
      "text/plain": [
       "2"
      ]
     },
     "execution_count": 77,
     "metadata": {},
     "output_type": "execute_result"
    },
    {
     "data": {
      "image/png": "[encoded data removed]",
      "text/plain": [
       "<matplotlib.figure.Figure at 0x7f6b97df2748>"
      ]
     },
     "metadata": {
      "needs_background": "light"
     },
     "output_type": "display_data"
    }
   ],
   "source": [
    "plt.hist(chain_plot, bins=6)\n",
    "chain_plot.count(0)"
   ]
  },
  {
   "cell_type": "code",
   "execution_count": 78,
   "metadata": {},
   "outputs": [
    {
     "data": {
      "text/plain": [
       "array([0,\n",
       "       (array([[0, 0, 0, 0, 0, 0],\n",
       "       [0, 0, 0, 0, 0, 0],\n",
       "       [0, 0, 0, 0, 0, 0],\n",
       "       [0, 0, 0, 0, 0, 0],\n",
       "       [0, 0, 0, 0, 0, 0],\n",
       "       [0, 0, 0, 0, 0, 0],\n",
       "       [0, 0, 0, 0, 0, 0],\n",
       "       [0, 0, 0, 0, 0, 0],\n",
       "       [0, 0, 0, 0, 0, 0],\n",
       "       [0, 0, 0, 0, 0, 0],\n",
       "       [0, 0, 0, 0, 0, 0],\n",
       "       [3, 3, 0, 0, 0, 0]]), 0)], dtype=object)"
      ]
     },
     "execution_count": 78,
     "metadata": {},
     "output_type": "execute_result"
    }
   ],
   "source": [
    "a = get_next()\n",
    "b = new_board()\n",
    "possibleMove(a, b)[0]"
   ]
  },
  {
   "cell_type": "code",
   "execution_count": 20,
   "metadata": {},
   "outputs": [
    {
     "data": {
      "text/plain": [
       "array([['e', 'e', 'e', 'e', 'e', 'e'],\n",
       "       ['e', 'e', 'e', 'e', 'e', 'e'],\n",
       "       ['e', 'e', 'e', 'e', 'e', 'e'],\n",
       "       ['e', 'e', 'e', 'e', 'e', 'e'],\n",
       "       ['e', 'e', 'e', 'e', 'e', 'e'],\n",
       "       ['e', 'e', 'e', 'e', 'e', 'e'],\n",
       "       ['e', 'e', 'e', 'e', 'e', 'e'],\n",
       "       ['e', 'e', 'e', 'e', 'e', 'e'],\n",
       "       ['e', 'e', 'e', 'e', 'e', 'e'],\n",
       "       ['e', 'e', 'e', 'e', 'e', 'e'],\n",
       "       ['r', 'r', 'e', 'e', 'e', 'e'],\n",
       "       ['r', 'r', 'e', 'e', 'e', 'e']], dtype='<U1')"
      ]
     },
     "execution_count": 20,
     "metadata": {},
     "output_type": "execute_result"
    }
   ],
   "source": [
    "r_board = board.copy()\n",
    "r_board[len(r_board)-2, [0]] = 'r'\n",
    "r_board[len(r_board)-2, [1]] = 'r'\n",
    "r_board[len(r_board)-1, [0]] = 'r'\n",
    "r_board[len(r_board)-1, [1]] = 'r'\n",
    "# r_board[len(r_board)-2, [4]] = 'r'\n",
    "# r_board[len(r_board)-2, [5]] = 'r'\n",
    "# r_board[len(r_board)-1, [4]] = 'r'\n",
    "# r_board[len(r_board)-1, [5]] = 'r'\n",
    "r_board"
   ]
  },
  {
   "cell_type": "code",
   "execution_count": 21,
   "metadata": {},
   "outputs": [
    {
     "data": {
      "text/plain": [
       "array([['e', 'e', 'e', 'e', 'e', 'e'],\n",
       "       ['e', 'e', 'e', 'e', 'e', 'e'],\n",
       "       ['e', 'e', 'e', 'e', 'e', 'e'],\n",
       "       ['e', 'e', 'e', 'e', 'e', 'e'],\n",
       "       ['e', 'e', 'e', 'e', 'e', 'e'],\n",
       "       ['e', 'e', 'e', 'e', 'e', 'e'],\n",
       "       ['e', 'e', 'e', 'e', 'e', 'e'],\n",
       "       ['e', 'e', 'e', 'e', 'e', 'e'],\n",
       "       ['e', 'r', 'g', 'b', 'y', 'e'],\n",
       "       ['r', 'g', 'b', 'y', 'r', 'e'],\n",
       "       ['r', 'g', 'b', 'y', 'r', 'e'],\n",
       "       ['r', 'g', 'b', 'y', 'r', 'e']], dtype='<U1')"
      ]
     },
     "execution_count": 21,
     "metadata": {},
     "output_type": "execute_result"
    }
   ],
   "source": [
    "f_board = board.copy()\n",
    "f_board[len(r_board)-1, [0]] = 'r'\n",
    "f_board[len(r_board)-2, [0]] = 'r'\n",
    "f_board[len(r_board)-3, [0]] = 'r'\n",
    "\n",
    "f_board[len(r_board)-1, [1]] = 'g'\n",
    "f_board[len(r_board)-2, [1]] = 'g'\n",
    "f_board[len(r_board)-3, [1]] = 'g'\n",
    "f_board[len(r_board)-4, [1]] = 'r'\n",
    "\n",
    "f_board[len(r_board)-1, [2]] = 'b'\n",
    "f_board[len(r_board)-2, [2]] = 'b'\n",
    "f_board[len(r_board)-3, [2]] = 'b'\n",
    "f_board[len(r_board)-4, [2]] = 'g'\n",
    "\n",
    "f_board[len(r_board)-1, [3]] = 'y'\n",
    "f_board[len(r_board)-2, [3]] = 'y'\n",
    "f_board[len(r_board)-3, [3]] = 'y'\n",
    "f_board[len(r_board)-4, [3]] = 'b'\n",
    "\n",
    "f_board[len(r_board)-1, [4]] = 'r'\n",
    "f_board[len(r_board)-2, [4]] = 'r'\n",
    "f_board[len(r_board)-3, [4]] = 'r'\n",
    "f_board[len(r_board)-4, [4]] = 'y'\n",
    "\n",
    "# f_board[len(r_board)-1, [5]] = 'r'\n",
    "# f_board[0, [5]] = 'y'\n",
    "# f_board[0, [4]] = 'r'\n",
    "\n",
    "f_board"
   ]
  },
  {
   "cell_type": "code",
   "execution_count": 5,
   "metadata": {},
   "outputs": [
    {
     "data": {
      "text/plain": [
       "array(['w'], dtype='<U1')"
      ]
     },
     "execution_count": 5,
     "metadata": {},
     "output_type": "execute_result"
    }
   ],
   "source": [
    "k = np.array(['e', 'w'])\n",
    "k[k != 'e']\n",
    "# n = k[~np.all(k is 'e', axis = 0)]\n",
    "# np.append(np.repeat(['e'], 3), np.array([2]))"
   ]
  },
  {
   "cell_type": "code",
   "execution_count": 38,
   "metadata": {},
   "outputs": [
    {
     "data": {
      "text/plain": [
       "'e'"
      ]
     },
     "execution_count": 38,
     "metadata": {},
     "output_type": "execute_result"
    }
   ],
   "source": [
    "r_board[:,0]"
   ]
  },
  {
   "cell_type": "code",
   "execution_count": 37,
   "metadata": {},
   "outputs": [],
   "source": [
    "def get_next():\n",
    "    f = colors[np.random.randint(0,4)]\n",
    "    s = colors[np.random.randint(0,4)]\n",
    "    return [f,s]\n",
    "def get_col(co):\n",
    "    co_i, co_j = co\n",
    "    return board[co_i, co_j]\n",
    "def fall(board):\n",
    "    for col in range(len(board[0])):\n",
    "        temp = board[:, col]\n",
    "        temp = temp[temp != 'e']\n",
    "#         print(temp)\n",
    "        board[:, col] = np.append(np.repeat(['e'], (len(board) - len(temp))), temp)"
   ]
  },
  {
   "cell_type": "code",
   "execution_count": 26,
   "metadata": {},
   "outputs": [
    {
     "data": {
      "text/plain": [
       "[2, 1]"
      ]
     },
     "execution_count": 26,
     "metadata": {},
     "output_type": "execute_result"
    }
   ],
   "source": [
    "a = [1,2]\n",
    "a[::-1]"
   ]
  },
  {
   "cell_type": "code",
   "execution_count": 16,
   "metadata": {},
   "outputs": [],
   "source": [
    "def hor(puyo, board, start):\n",
    "    possible = []\n",
    "    n, m = puyo\n",
    "    for i in range(5):\n",
    "        if board[0][i] == 'e' and board[0][i + 1] == 'e':\n",
    "            t_board = board.copy()\n",
    "            t_board = board.copy()\n",
    "            t_board[0,i] = n\n",
    "            t_board[0,i+1] = m\n",
    "            possible.append((start + i, next_board(t_board)))\n",
    "    return possible\n",
    "\n",
    "def ver(puyo, board, start):\n",
    "    possible = []\n",
    "    n, m = puyo\n",
    "    for i in range(6):\n",
    "        if board[0][i] == 'e' and board[1][i] == 'e':\n",
    "            t_board = board.copy()\n",
    "            t_board[0,i] = n\n",
    "            t_board[1,i] = m\n",
    "            possible.append((start + i, next_board(t_board)))\n",
    "    return possible"
   ]
  },
  {
   "cell_type": "code",
   "execution_count": 32,
   "metadata": {},
   "outputs": [],
   "source": [
    "def possibleMove(next_puyo, board):\n",
    "    possible = []\n",
    "#     for i in range(5):\n",
    "#         if board[0][i] == 'e' and board[0][i + 1] == 'e':\n",
    "#             t_board = board.copy()\n",
    "#             t_board[0][i] = next_puyo[0]\n",
    "#             t_board[0][i+1] = next_puyo[1]\n",
    "#             possible.add(next_board())\n",
    "    possible.extend(hor(next_puyo[::], board, 0))\n",
    "    possible.extend(hor(next_puyo[::-1], board, 5))\n",
    "    possible.extend(ver(next_puyo[::], board, 10))\n",
    "    possible.extend(ver(next_puyo[::-1], board, 16))\n",
    "    return np.asarray(possible)\n",
    "        "
   ]
  },
  {
   "cell_type": "code",
   "execution_count": 33,
   "metadata": {},
   "outputs": [],
   "source": [
    "a = possibleMove(['r', 'r'], f_board)"
   ]
  },
  {
   "cell_type": "code",
   "execution_count": 52,
   "metadata": {},
   "outputs": [
    {
     "data": {
      "text/plain": [
       "'e'"
      ]
     },
     "execution_count": 52,
     "metadata": {},
     "output_type": "execute_result"
    }
   ],
   "source": [
    "# a[a[:,0] == 1][0][1][0]\n",
    "b = new_board()\n",
    "b[0][1]"
   ]
  },
  {
   "cell_type": "code",
   "execution_count": 49,
   "metadata": {},
   "outputs": [],
   "source": [
    "def drop(board):\n",
    "    fall(board)"
   ]
  },
  {
   "cell_type": "code",
   "execution_count": 15,
   "metadata": {},
   "outputs": [],
   "source": [
    "def pop(board, group):\n",
    "    for i,j in group:\n",
    "        board[i, j] = 'e'\n",
    "    \n",
    "def next_board(_board):\n",
    "    board = _board.copy()\n",
    "    visited = set()\n",
    "    fall(board)\n",
    "    fall(_board)\n",
    "    \n",
    "    def connect(i, j):\n",
    "        current_color = board[i, j]\n",
    "        current_group = {(i, j)}\n",
    "        my_togo = {(i-1, j), (i+1, j), (i, j-1), (i, j+1)}\n",
    "        new_togo = set()\n",
    "        my_visited = {(i, j)}\n",
    "        count = 1\n",
    "        while len(my_togo) != 0:\n",
    "            for r, c in my_togo:\n",
    "                try:\n",
    "                    if r >= 0 and c >= 0:\n",
    "                        color = board[r][c]\n",
    "                        my_visited.add((r, c))\n",
    "                        if color == current_color:\n",
    "                            count += 1\n",
    "                            visited.add((r, c))\n",
    "                            current_group.add((r, c))\n",
    "                            adj = {(r-1, c), (r+1, c), (r, c-1), (r, c+1)}.difference(my_visited)\n",
    "    #                         print(adj)\n",
    "                            new_togo = new_togo.union(adj)\n",
    "#                             print(new_togo)\n",
    "                except:\n",
    "                    continue\n",
    "            my_togo = new_togo\n",
    "            new_togo = set()\n",
    "#             print(count)\n",
    "            \n",
    "        return count >= 4, current_group\n",
    "    \n",
    "    for i in range(len(board)):\n",
    "            for j in range(len(board[0])):\n",
    "                if board[i, j] != 'e' and (i, j) not in visited:\n",
    "#                     print(i, j)\n",
    "                    chain, group = connect(i, j)\n",
    "                    if chain:\n",
    "                        pop(board, group)\n",
    "#     print(visited)\n",
    "    if np.array_equal(_board, board):\n",
    "        return board, 0\n",
    "    else:\n",
    "#         return board\n",
    "        nb, chain = next_board(board)\n",
    "#         print(nb)\n",
    "        return nb, chain+1\n",
    "                    \n",
    "   "
   ]
  },
  {
   "cell_type": "code",
   "execution_count": 32,
   "metadata": {},
   "outputs": [
    {
     "data": {
      "text/plain": [
       "(array([['e', 'e', 'e', 'e', 'e', 'e'],\n",
       "        ['e', 'e', 'e', 'e', 'e', 'e'],\n",
       "        ['e', 'e', 'e', 'e', 'e', 'e'],\n",
       "        ['e', 'e', 'e', 'e', 'e', 'e'],\n",
       "        ['e', 'e', 'e', 'e', 'e', 'e'],\n",
       "        ['e', 'e', 'e', 'e', 'e', 'e'],\n",
       "        ['e', 'e', 'e', 'e', 'e', 'e'],\n",
       "        ['e', 'e', 'e', 'e', 'e', 'e'],\n",
       "        ['e', 'r', 'g', 'b', 'y', 'e'],\n",
       "        ['r', 'g', 'b', 'y', 'r', 'e'],\n",
       "        ['r', 'g', 'b', 'y', 'r', 'e'],\n",
       "        ['r', 'g', 'b', 'y', 'r', 'e']], dtype='<U1'), 0)"
      ]
     },
     "execution_count": 32,
     "metadata": {},
     "output_type": "execute_result"
    }
   ],
   "source": [
    "next_board(f_board)"
   ]
  },
  {
   "cell_type": "code",
   "execution_count": 52,
   "metadata": {},
   "outputs": [
    {
     "data": {
      "text/plain": [
       "array([['e', 'e', 'e', 'e', 'e', 'e'],\n",
       "       ['e', 'e', 'e', 'e', 'e', 'e'],\n",
       "       ['e', 'e', 'e', 'e', 'e', 'e'],\n",
       "       ['e', 'e', 'e', 'e', 'e', 'e'],\n",
       "       ['e', 'e', 'e', 'e', 'e', 'e'],\n",
       "       ['e', 'e', 'e', 'e', 'e', 'e'],\n",
       "       ['e', 'e', 'e', 'e', 'e', 'e'],\n",
       "       ['e', 'e', 'e', 'e', 'r', 'e'],\n",
       "       ['e', 'r', 'g', 'b', 'y', 'e'],\n",
       "       ['r', 'g', 'b', 'y', 'r', 'e'],\n",
       "       ['r', 'g', 'b', 'y', 'r', 'e'],\n",
       "       ['r', 'g', 'b', 'y', 'r', 'y']], dtype='<U1')"
      ]
     },
     "execution_count": 52,
     "metadata": {},
     "output_type": "execute_result"
    }
   ],
   "source": []
  },
  {
   "cell_type": "code",
   "execution_count": 10,
   "metadata": {},
   "outputs": [
    {
     "ename": "IndentationError",
     "evalue": "expected an indented block (<ipython-input-10-ba719eddcc57>, line 15)",
     "output_type": "error",
     "traceback": [
      "\u001b[1;36m  File \u001b[1;32m\"<ipython-input-10-ba719eddcc57>\"\u001b[1;36m, line \u001b[1;32m15\u001b[0m\n\u001b[1;33m    def connect(i, j):\u001b[0m\n\u001b[1;37m    ^\u001b[0m\n\u001b[1;31mIndentationError\u001b[0m\u001b[1;31m:\u001b[0m expected an indented block\n"
     ]
    }
   ],
   "source": [
    "def cal_next(position = None, _board):\n",
    "    board = _board.copy()\n",
    "    if not position:\n",
    "        for i in range(len(board)):\n",
    "            for j in range(len(board[0])):\n",
    "                if board[i, j] != 'e':\n",
    "                    return cal_next((i, j), board)\n",
    "    else:\n",
    "        c_i, c_j = position\n",
    "        visited = {[c_i, c_j]}\n",
    "        to_go = {[c_i, c_j]}\n",
    "        while len(togo) != 0:\n",
    "            \n",
    "#     def walk():\n",
    "    def connect(i, j):\n",
    "        current_color = baord[i, j]\n",
    "        current_group = {[i, j]}\n",
    "        my_togo = {[i-1, j], [i+1, j], [i, j-1], [i, j+1]}\n",
    "        new_togo = set()\n",
    "        my_visited = {[i, j]}\n",
    "        count = 1\n",
    "        while len(my_togo) != 0:\n",
    "            for r, c in my_togo:\n",
    "                try:\n",
    "                    color = board[r][c]\n",
    "                    my_visited.add([r, c])\n",
    "                    if color == current_color:\n",
    "                        count += 1\n",
    "                        visited.add([r, c])\n",
    "                        current_group.add([r, c])\n",
    "                        adj = {[r-1, c], [r+1, c], [r, c-1], [r, c+1]}.difference(my_visited)\n",
    "                        new_togo.union({adj})\n",
    "                except:\n",
    "                    continue\n",
    "            my_togo = new_togo\n",
    "            new_togo = set()\n",
    "        return count >= 4, current_group\n",
    "        "
   ]
  },
  {
   "cell_type": "code",
   "execution_count": 33,
   "metadata": {},
   "outputs": [
    {
     "name": "stdout",
     "output_type": "stream",
     "text": [
      "1 2\n",
      "3 4\n"
     ]
    }
   ],
   "source": [
    "for i,j in [[1,2], [3,4]]:\n",
    "    print(i, j)"
   ]
  },
  {
   "cell_type": "code",
   "execution_count": 46,
   "metadata": {},
   "outputs": [],
   "source": [
    "a = {1,2,3}"
   ]
  },
  {
   "cell_type": "code",
   "execution_count": 43,
   "metadata": {},
   "outputs": [
    {
     "data": {
      "text/plain": [
       "array([3, 4])"
      ]
     },
     "execution_count": 43,
     "metadata": {},
     "output_type": "execute_result"
    }
   ],
   "source": [
    "a = np.array([[1,2], [3,4]])\n",
    "max(a, key = lambda x: x[1])"
   ]
  },
  {
   "cell_type": "code",
   "execution_count": 48,
   "metadata": {},
   "outputs": [
    {
     "data": {
      "text/plain": [
       "{1, 2, 3, 4, 5, 6}"
      ]
     },
     "execution_count": 48,
     "metadata": {},
     "output_type": "execute_result"
    }
   ],
   "source": [
    "a.add"
   ]
  },
  {
   "cell_type": "code",
   "execution_count": 54,
   "metadata": {},
   "outputs": [
    {
     "name": "stdout",
     "output_type": "stream",
     "text": [
      "1\n",
      "2\n",
      "3\n",
      "1\n",
      "2\n",
      "3\n",
      "1\n",
      "2\n",
      "3\n"
     ]
    }
   ],
   "source": [
    "n = [1,2,3]\n",
    "for i in range(3):\n",
    "    try:\n",
    "        for j in range(21):\n",
    "            print(n[j])\n",
    "    except:\n",
    "        continue"
   ]
  },
  {
   "cell_type": "code",
   "execution_count": 52,
   "metadata": {},
   "outputs": [
    {
     "data": {
      "text/plain": [
       "{1, 3}"
      ]
     },
     "execution_count": 52,
     "metadata": {},
     "output_type": "execute_result"
    }
   ],
   "source": [
    "{1,2,3}.difference({2})"
   ]
  },
  {
   "cell_type": "code",
   "execution_count": 28,
   "metadata": {},
   "outputs": [
    {
     "ename": "TypeError",
     "evalue": "unhashable type: 'list'",
     "output_type": "error",
     "traceback": [
      "\u001b[0;31m---------------------------------------------------------------------------\u001b[0m",
      "\u001b[0;31mTypeError\u001b[0m                                 Traceback (most recent call last)",
      "\u001b[0;32m<ipython-input-28-7a9428c7cc6b>\u001b[0m in \u001b[0;36m<module>\u001b[0;34m\u001b[0m\n\u001b[0;32m----> 1\u001b[0;31m \u001b[0mset\u001b[0m\u001b[0;34m(\u001b[0m\u001b[0;34m[\u001b[0m\u001b[0;34m[\u001b[0m\u001b[0;36m2\u001b[0m\u001b[0;34m]\u001b[0m\u001b[0;34m]\u001b[0m\u001b[0;34m)\u001b[0m\u001b[0;34m\u001b[0m\u001b[0;34m\u001b[0m\u001b[0m\n\u001b[0m",
      "\u001b[0;31mTypeError\u001b[0m: unhashable type: 'list'"
     ]
    }
   ],
   "source": [
    "set([[2]])"
   ]
  },
  {
   "cell_type": "code",
   "execution_count": 126,
   "metadata": {},
   "outputs": [],
   "source": [
    "n = np.array([1,2,3])"
   ]
  },
  {
   "cell_type": "code",
   "execution_count": 127,
   "metadata": {},
   "outputs": [],
   "source": [
    "n.fill(2)"
   ]
  },
  {
   "cell_type": "code",
   "execution_count": 131,
   "metadata": {},
   "outputs": [
    {
     "data": {
      "text/plain": [
       "array([], dtype=float64)"
      ]
     },
     "execution_count": 131,
     "metadata": {},
     "output_type": "execute_result"
    }
   ],
   "source": [
    "np.zeros(0)"
   ]
  },
  {
   "cell_type": "code",
   "execution_count": 137,
   "metadata": {},
   "outputs": [],
   "source": [
    "a = [3,4,5]"
   ]
  },
  {
   "cell_type": "code",
   "execution_count": 15,
   "metadata": {},
   "outputs": [
    {
     "data": {
      "text/plain": [
       "72"
      ]
     },
     "execution_count": 15,
     "metadata": {},
     "output_type": "execute_result"
    }
   ],
   "source": [
    "b = new_board()\n",
    "b.reshape(1, 72)"
   ]
  },
  {
   "cell_type": "code",
   "execution_count": 14,
   "metadata": {},
   "outputs": [
    {
     "data": {
      "text/plain": [
       "array([['e', 'e', 'e', 'e', 'e', 'e'],\n",
       "       ['e', 'e', 'e', 'e', 'e', 'e'],\n",
       "       ['e', 'e', 'e', 'e', 'e', 'e'],\n",
       "       ['e', 'e', 'e', 'e', 'e', 'e'],\n",
       "       ['e', 'e', 'e', 'e', 'e', 'e'],\n",
       "       ['e', 'e', 'e', 'e', 'e', 'e'],\n",
       "       ['e', 'e', 'e', 'e', 'e', 'e'],\n",
       "       ['e', 'e', 'e', 'e', 'e', 'e'],\n",
       "       ['e', 'e', 'e', 'e', 'e', 'e'],\n",
       "       ['e', 'e', 'e', 'e', 'e', 'e'],\n",
       "       ['e', 'e', 'e', 'e', 'e', 'e'],\n",
       "       ['e', 'e', 'e', 'e', 'e', 'e']], dtype='<U1')"
      ]
     },
     "execution_count": 14,
     "metadata": {},
     "output_type": "execute_result"
    }
   ],
   "source": []
  },
  {
   "cell_type": "code",
   "execution_count": null,
   "metadata": {},
   "outputs": [],
   "source": []
  }
 ],
 "metadata": {
  "kernelspec": {
   "display_name": "Python 3",
   "language": "python",
   "name": "python3"
  },
  "language_info": {
   "codemirror_mode": {
    "name": "ipython",
    "version": 3
   },
   "file_extension": ".py",
   "mimetype": "text/x-python",
   "name": "python",
   "nbconvert_exporter": "python",
   "pygments_lexer": "ipython3",
   "version": "3.6.7"
  }
 },
 "nbformat": 4,
 "nbformat_minor": 2
}
